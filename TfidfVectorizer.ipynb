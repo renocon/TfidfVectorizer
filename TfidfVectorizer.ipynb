{
 "cells": [
  {
   "cell_type": "code",
   "execution_count": 189,
   "metadata": {
    "collapsed": true
   },
   "outputs": [],
   "source": [
    "import pandas as pd\n",
    "import numpy as np"
   ]
  },
  {
   "cell_type": "code",
   "execution_count": 197,
   "metadata": {
    "collapsed": true
   },
   "outputs": [],
   "source": [
    "#looks at corpus and creates tf basis vector (bag of words)\n",
    "def corp2bag(corp):\n",
    "    lookup = []\n",
    "    for doc in corp:\n",
    "        if type(doc) != list:\n",
    "            doc = doc.split(' ')\n",
    "        for word in doc:\n",
    "            if lookup.count(word) == 0:\n",
    "                lookup.append(word)\n",
    "    lookup.sort()\n",
    "    return lookup\n",
    "\n",
    "#creates 3d vector space with tf\n",
    "def corp2vec(corp):\n",
    "    lookup = corp2bag(corp)\n",
    "    vs = []\n",
    "    for line in corp:\n",
    "        if type(line) != list:\n",
    "            line = line.split(' ')\n",
    "        v = []\n",
    "        for word in lookup:\n",
    "            v.append(0)\n",
    "            v[lookup.index(word)] = line.count(word)\n",
    "        vs.append(v)\n",
    "        \n",
    "    return pd.DataFrame(vs,columns=lookup)\n",
    "\n",
    "def tfidf(corpus):\n",
    "    cv = corp2vec(corpus) #count vectorizer \n",
    "    X = cv.shape[0] # number of documents \n",
    "    for col in cv.columns:\n",
    "        Xt = cv[cv[col] > 0].shape[0] # number of documents containting term t. In this case, the value of \"col\"\n",
    "        cv[col] = cv[col].apply(lambda x: x * (np.log10(X/(Xt+1)))) #plus 1 to prevent division by zero\n",
    "    return cv"
   ]
  },
  {
   "cell_type": "code",
   "execution_count": 191,
   "metadata": {},
   "outputs": [],
   "source": [
    "corp = ['hello this is a list','a lion is a cat','exams are hard']"
   ]
  },
  {
   "cell_type": "code",
   "execution_count": 192,
   "metadata": {},
   "outputs": [],
   "source": [
    "t = tfidf(corp)\n",
    "c = corp2vec(corp)"
   ]
  },
  {
   "cell_type": "code",
   "execution_count": 195,
   "metadata": {},
   "outputs": [
    {
     "data": {
      "text/html": [
       "<div>\n",
       "<style>\n",
       "    .dataframe thead tr:only-child th {\n",
       "        text-align: right;\n",
       "    }\n",
       "\n",
       "    .dataframe thead th {\n",
       "        text-align: left;\n",
       "    }\n",
       "\n",
       "    .dataframe tbody tr th {\n",
       "        vertical-align: top;\n",
       "    }\n",
       "</style>\n",
       "<table border=\"1\" class=\"dataframe\">\n",
       "  <thead>\n",
       "    <tr style=\"text-align: right;\">\n",
       "      <th></th>\n",
       "      <th>a</th>\n",
       "      <th>are</th>\n",
       "      <th>cat</th>\n",
       "      <th>exams</th>\n",
       "      <th>hard</th>\n",
       "      <th>hello</th>\n",
       "      <th>is</th>\n",
       "      <th>lion</th>\n",
       "      <th>list</th>\n",
       "      <th>this</th>\n",
       "    </tr>\n",
       "  </thead>\n",
       "  <tbody>\n",
       "    <tr>\n",
       "      <th>0</th>\n",
       "      <td>0.0</td>\n",
       "      <td>0.000000</td>\n",
       "      <td>0.000000</td>\n",
       "      <td>0.000000</td>\n",
       "      <td>0.000000</td>\n",
       "      <td>0.176091</td>\n",
       "      <td>0.0</td>\n",
       "      <td>0.000000</td>\n",
       "      <td>0.176091</td>\n",
       "      <td>0.176091</td>\n",
       "    </tr>\n",
       "    <tr>\n",
       "      <th>1</th>\n",
       "      <td>0.0</td>\n",
       "      <td>0.000000</td>\n",
       "      <td>0.176091</td>\n",
       "      <td>0.000000</td>\n",
       "      <td>0.000000</td>\n",
       "      <td>0.000000</td>\n",
       "      <td>0.0</td>\n",
       "      <td>0.176091</td>\n",
       "      <td>0.000000</td>\n",
       "      <td>0.000000</td>\n",
       "    </tr>\n",
       "    <tr>\n",
       "      <th>2</th>\n",
       "      <td>0.0</td>\n",
       "      <td>0.176091</td>\n",
       "      <td>0.000000</td>\n",
       "      <td>0.176091</td>\n",
       "      <td>0.176091</td>\n",
       "      <td>0.000000</td>\n",
       "      <td>0.0</td>\n",
       "      <td>0.000000</td>\n",
       "      <td>0.000000</td>\n",
       "      <td>0.000000</td>\n",
       "    </tr>\n",
       "  </tbody>\n",
       "</table>\n",
       "</div>"
      ],
      "text/plain": [
       "     a       are       cat     exams      hard     hello   is      lion  \\\n",
       "0  0.0  0.000000  0.000000  0.000000  0.000000  0.176091  0.0  0.000000   \n",
       "1  0.0  0.000000  0.176091  0.000000  0.000000  0.000000  0.0  0.176091   \n",
       "2  0.0  0.176091  0.000000  0.176091  0.176091  0.000000  0.0  0.000000   \n",
       "\n",
       "       list      this  \n",
       "0  0.176091  0.176091  \n",
       "1  0.000000  0.000000  \n",
       "2  0.000000  0.000000  "
      ]
     },
     "execution_count": 195,
     "metadata": {},
     "output_type": "execute_result"
    }
   ],
   "source": [
    "t"
   ]
  },
  {
   "cell_type": "code",
   "execution_count": 196,
   "metadata": {},
   "outputs": [
    {
     "data": {
      "text/html": [
       "<div>\n",
       "<style>\n",
       "    .dataframe thead tr:only-child th {\n",
       "        text-align: right;\n",
       "    }\n",
       "\n",
       "    .dataframe thead th {\n",
       "        text-align: left;\n",
       "    }\n",
       "\n",
       "    .dataframe tbody tr th {\n",
       "        vertical-align: top;\n",
       "    }\n",
       "</style>\n",
       "<table border=\"1\" class=\"dataframe\">\n",
       "  <thead>\n",
       "    <tr style=\"text-align: right;\">\n",
       "      <th></th>\n",
       "      <th>a</th>\n",
       "      <th>are</th>\n",
       "      <th>cat</th>\n",
       "      <th>exams</th>\n",
       "      <th>hard</th>\n",
       "      <th>hello</th>\n",
       "      <th>is</th>\n",
       "      <th>lion</th>\n",
       "      <th>list</th>\n",
       "      <th>this</th>\n",
       "    </tr>\n",
       "  </thead>\n",
       "  <tbody>\n",
       "    <tr>\n",
       "      <th>0</th>\n",
       "      <td>1</td>\n",
       "      <td>0</td>\n",
       "      <td>0</td>\n",
       "      <td>0</td>\n",
       "      <td>0</td>\n",
       "      <td>1</td>\n",
       "      <td>1</td>\n",
       "      <td>0</td>\n",
       "      <td>1</td>\n",
       "      <td>1</td>\n",
       "    </tr>\n",
       "    <tr>\n",
       "      <th>1</th>\n",
       "      <td>2</td>\n",
       "      <td>0</td>\n",
       "      <td>1</td>\n",
       "      <td>0</td>\n",
       "      <td>0</td>\n",
       "      <td>0</td>\n",
       "      <td>1</td>\n",
       "      <td>1</td>\n",
       "      <td>0</td>\n",
       "      <td>0</td>\n",
       "    </tr>\n",
       "    <tr>\n",
       "      <th>2</th>\n",
       "      <td>0</td>\n",
       "      <td>1</td>\n",
       "      <td>0</td>\n",
       "      <td>1</td>\n",
       "      <td>1</td>\n",
       "      <td>0</td>\n",
       "      <td>0</td>\n",
       "      <td>0</td>\n",
       "      <td>0</td>\n",
       "      <td>0</td>\n",
       "    </tr>\n",
       "  </tbody>\n",
       "</table>\n",
       "</div>"
      ],
      "text/plain": [
       "   a  are  cat  exams  hard  hello  is  lion  list  this\n",
       "0  1    0    0      0     0      1   1     0     1     1\n",
       "1  2    0    1      0     0      0   1     1     0     0\n",
       "2  0    1    0      1     1      0   0     0     0     0"
      ]
     },
     "execution_count": 196,
     "metadata": {},
     "output_type": "execute_result"
    }
   ],
   "source": [
    "c"
   ]
  },
  {
   "cell_type": "code",
   "execution_count": null,
   "metadata": {
    "collapsed": true
   },
   "outputs": [],
   "source": []
  }
 ],
 "metadata": {
  "kernelspec": {
   "display_name": "Python 3",
   "language": "python",
   "name": "python3"
  },
  "language_info": {
   "codemirror_mode": {
    "name": "ipython",
    "version": 3
   },
   "file_extension": ".py",
   "mimetype": "text/x-python",
   "name": "python",
   "nbconvert_exporter": "python",
   "pygments_lexer": "ipython3",
   "version": "3.6.3"
  }
 },
 "nbformat": 4,
 "nbformat_minor": 2
}
